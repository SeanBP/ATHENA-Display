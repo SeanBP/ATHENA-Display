{
 "cells": [
  {
   "cell_type": "code",
   "execution_count": 4,
   "metadata": {},
   "outputs": [
    {
     "name": "stdout",
     "output_type": "stream",
     "text": [
      "Finished\n"
     ]
    }
   ],
   "source": [
    "%matplotlib notebook\n",
    "import uproot as ur\n",
    "import matplotlib.pyplot as plt\n",
    "import k3d\n",
    "import numpy as np\n",
    "import awkward as ak\n",
    "\n",
    "\n",
    "eventPath = 'Detector.txt'\n",
    "\n",
    "input_file = 'Detector.edm4hep.root'\n",
    "events = ur.open(\"%s:events\"%(input_file))\n",
    "arrays = events.arrays()\n",
    "\n",
    "x = np.array([arrays['HCALHits.position.x']/100])\n",
    "y = np.array([arrays['HCALHits.position.y']/100])\n",
    "z = np.array([arrays['HCALHits.position.z']/100])\n",
    "e = np.array([1.59314*arrays['HCALHits.energy']])\n",
    "\n",
    "t = np.array([arrays['HCALHits.contributions_begin']*10])\n",
    "\n",
    "\n",
    "with open(eventPath, 'a') as f:\n",
    "    for i in range(100):  \n",
    "        f.write('\\n')\n",
    "        f.write(\"Event\")\n",
    "        f.write('\\n');\n",
    "        f.write(\"Hits\")\n",
    "        #-35.2\n",
    "        for j in range(len(e[0][i])):\n",
    "            f.write('\\n');\n",
    "            f.write(str(t[0][i][j]-117)+\" \"+str(x[0][i][j])+\" \"+str(y[0][i][j])+\" \"+str(z[0][i][j]-35.2)+\" \"+str(e[0][i][j])+\" 0\")\n",
    "        f.write('\\n')\n",
    "        f.write(\"Clusters\")\n",
    "        f.write('\\n')\n",
    "                    \n",
    "print('Finished')"
   ]
  },
  {
   "cell_type": "code",
   "execution_count": null,
   "metadata": {},
   "outputs": [],
   "source": []
  }
 ],
 "metadata": {
  "kernelspec": {
   "display_name": "Python 3",
   "language": "python",
   "name": "python3"
  },
  "language_info": {
   "codemirror_mode": {
    "name": "ipython",
    "version": 3
   },
   "file_extension": ".py",
   "mimetype": "text/x-python",
   "name": "python",
   "nbconvert_exporter": "python",
   "pygments_lexer": "ipython3",
   "version": "3.7.6"
  }
 },
 "nbformat": 4,
 "nbformat_minor": 4
}
